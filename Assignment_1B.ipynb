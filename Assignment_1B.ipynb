{
  "nbformat": 4,
  "nbformat_minor": 0,
  "metadata": {
    "colab": {
      "provenance": [],
      "authorship_tag": "ABX9TyNUgIOpPMvyg8PmlLWgFBn6",
      "include_colab_link": true
    },
    "kernelspec": {
      "name": "python3",
      "display_name": "Python 3"
    },
    "language_info": {
      "name": "python"
    }
  },
  "cells": [
    {
      "cell_type": "markdown",
      "metadata": {
        "id": "view-in-github",
        "colab_type": "text"
      },
      "source": [
        "<a href=\"https://colab.research.google.com/github/AdriSaptaF/Tugas/blob/main/Assignment_1B.ipynb\" target=\"_parent\"><img src=\"https://colab.research.google.com/assets/colab-badge.svg\" alt=\"Open In Colab\"/></a>"
      ]
    },
    {
      "cell_type": "code",
      "source": [
        "# First Case Study : Miles Per Gallon\n",
        "# • Drivers are concerned with the mileage obtained by their automobiles. One driver has kept track of several tankfuls of gasoline\n",
        "#   by recording miles driven and gallons used for each tankful. Develop a sentinel-controlled-repetition script that prompts the\n",
        "#   user to input the miles driven and gallons used for each tankful.\n",
        "# • The script should calculate and display the miles per gallon obtained for each tankful. After processing all input information, the\n",
        "#   script should calculate and display the combined miles per gallon obtained for all tankfuls (that is, total miles driven divided by\n",
        "#   total gallons used).\n",
        "\n",
        "def main():\n",
        "    # Initialize variables to store total miles driven and total gallons used\n",
        "    total_miles = 0\n",
        "    total_gallons = 0\n",
        "\n",
        "    # Start a loop that will run until the user enters -1\n",
        "    while True:\n",
        "        # Prompt the user to input the number of gallons used\n",
        "        gallons = float(input(\"Enter the gallons used (-1 to end): \"))\n",
        "\n",
        "        # If the user enters -1, exit the loop\n",
        "        if gallons == -1:\n",
        "            break\n",
        "\n",
        "        # Prompt the user to input the number of miles driven\n",
        "        miles = float(input(\"Enter the miles driven: \"))\n",
        "\n",
        "        # Calculate miles per gallon for this tank\n",
        "        miles_per_gallon = miles / gallons\n",
        "\n",
        "        # Display the miles per gallon for this tank\n",
        "        print(f\"The miles/gallon for this tank was: {miles_per_gallon:.6f}\")\n",
        "\n",
        "        # Add the miles and gallons used to the totals\n",
        "        total_miles += miles\n",
        "        total_gallons += gallons\n",
        "\n",
        "    # After the loop, calculate and display the overall average miles per gallon\n",
        "    if total_gallons != 0:\n",
        "        overall_mpg = total_miles / total_gallons\n",
        "        print(f\"The overall average miles/gallon was: {overall_mpg:.6f}\")\n",
        "    else:\n",
        "        # If no valid data, display a message indicating no data to calculate\n",
        "        print(\"No data to calculate overall average miles/gallon.\")\n",
        "\n",
        "# Execute the main function if this script is run directly\n",
        "if __name__ == \"__main__\":\n",
        "    main()\n"
      ],
      "metadata": {
        "colab": {
          "base_uri": "https://localhost:8080/"
        },
        "id": "b1u42kv5ZNmK",
        "outputId": "4ceca1f3-9b3f-419e-a5be-cc17819104ef"
      },
      "execution_count": null,
      "outputs": [
        {
          "output_type": "stream",
          "name": "stdout",
          "text": [
            "Enter the gallons used (-1 to end): 12.8\n",
            "Enter the miles driven: 287\n",
            "The miles/gallon for this tank was: 22.421875\n",
            "Enter the gallons used (-1 to end): 10.3\n",
            "Enter the miles driven: 200\n",
            "The miles/gallon for this tank was: 19.417476\n",
            "Enter the gallons used (-1 to end): 5\n",
            "Enter the miles driven: 120\n",
            "The miles/gallon for this tank was: 24.000000\n",
            "Enter the gallons used (-1 to end): -1\n",
            "The overall average miles/gallon was: 21.601423\n"
          ]
        }
      ]
    },
    {
      "cell_type": "code",
      "execution_count": null,
      "metadata": {
        "colab": {
          "base_uri": "https://localhost:8080/"
        },
        "id": "8fP670w-MydP",
        "outputId": "bc1c6264-e27f-454d-8a14-a0d69aed36e1"
      },
      "outputs": [
        {
          "output_type": "stream",
          "name": "stdout",
          "text": [
            "Welcome to the game of Craps!\n",
            "You rolled: 2 + 5 = 7\n",
            "Congratulations, you win!\n"
          ]
        }
      ],
      "source": [
        "# Second Case Study : A Game of Chance - Crap\n",
        "# • You roll two six-sided dice, each with faces containing one, two, three, four, five and six spots, respectively.\n",
        "#   When the dice come to rest, the sum of the spots on the two upward faces is calculated.\n",
        "# • If the sum is 7 or 11 on the first roll, you win. If the sum is 2, 3 or 12 on the first roll (called “craps”), you lose\n",
        "#   (i.e., the “house” wins).\n",
        "# • If the sum is 4, 5, 6, 8, 9 or 10 on the first roll, that sum becomes your “point.” To win, you must continue\n",
        "#   rolling the dice until you “make your point” (i.e., roll that same point value). You lose by rolling a 7 before\n",
        "#   making your point.\n",
        "\n",
        "import random\n",
        "\n",
        "def roll_dice():\n",
        "    \"\"\"Roll two six-sided dice and return their individual values and their sum.\"\"\"\n",
        "    die1 = random.randint(1, 6)  # Roll the first die\n",
        "    die2 = random.randint(1, 6)  # Roll the second die\n",
        "    return die1, die2, die1 + die2  # Return both dice values and their sum\n",
        "\n",
        "def play_craps():\n",
        "    \"\"\"Play a game of Craps.\"\"\"\n",
        "    print(\"Welcome to the game of Craps!\")\n",
        "\n",
        "    # First roll\n",
        "    die1, die2, first_roll = roll_dice()  # Perform the first roll\n",
        "    print(f\"You rolled: {die1} + {die2} = {first_roll}\")\n",
        "\n",
        "    # Check the outcome of the first roll\n",
        "    if first_roll in [7, 11]:\n",
        "        # Win condition on the first roll\n",
        "        print(\"Congratulations, you win!\")\n",
        "        return\n",
        "    elif first_roll in [2, 3, 12]:\n",
        "        # Loss condition on the first roll (Craps)\n",
        "        print(\"Craps! You lose.\")\n",
        "        return\n",
        "    else:\n",
        "        # If the first roll is 4, 5, 6, 8, 9, or 10, it becomes the player's point\n",
        "        point = first_roll\n",
        "        print(f\"Your point is {point}. Keep rolling to make your point.\")\n",
        "\n",
        "    # Continue rolling until the player wins by making their point or loses by rolling a 7\n",
        "    while True:\n",
        "        die1, die2, current_roll = roll_dice()  # Perform the next roll\n",
        "        print(f\"You rolled: {die1} + {die2} = {current_roll}\")\n",
        "\n",
        "        if current_roll == point:\n",
        "            # Win condition if the player makes their point\n",
        "            print(\"Congratulations, you made your point! You win!\")\n",
        "            return\n",
        "        elif current_roll == 7:\n",
        "            # Loss condition if the player rolls a 7 before making their point\n",
        "            print(\"You rolled a 7. You lose.\")\n",
        "            return\n",
        "\n",
        "if __name__ == \"__main__\":\n",
        "    play_craps()  # Execute the play_craps function to start the game\n"
      ]
    },
    {
      "cell_type": "code",
      "source": [
        "# Third Case Study : COVID 19 Infection Statistic\n",
        "# • (COVID-19 Infection Statistics) During the first 20 days of the COVID-19 pandemic, the number\n",
        "#   of newly infected patients per day in a country were recorded.\n",
        "# • Place the following numbers in a list: 174, 335, 278, 214, 422, 513, 737, 672, 489, 412, 1301,\n",
        "#   1105, 1123, 1376, 1502, 894, 665, 1704, 1656, 1342 Use the built-in functions in the statistics\n",
        "#   module to display the following statistics concerning the infection rate: minimum, maximum,\n",
        "#   range, mean, median, variance, and standard deviation.\n",
        "\n",
        "import statistics\n",
        "\n",
        "# Data list given from the problem\n",
        "infection_data = [\n",
        "    174, 335, 278, 214, 422, 513, 737, 672, 489, 412,\n",
        "    1301, 1105, 1123, 1376, 1502, 894, 665, 1704, 1656, 1342\n",
        "]\n",
        "\n",
        "# Calculate the minimum value in the data\n",
        "minimum = min(infection_data)\n",
        "\n",
        "# Calculate the maximum value in the data\n",
        "maximum = max(infection_data)\n",
        "\n",
        "# Calculate the range of the data (max - min)\n",
        "range_value = maximum - minimum\n",
        "\n",
        "# Calculate the mean (average) of the data\n",
        "mean = statistics.mean(infection_data)\n",
        "\n",
        "# Calculate the median (middle value) of the data\n",
        "median = statistics.median(infection_data)\n",
        "\n",
        "# Calculate the variance of the data\n",
        "variance = statistics.variance(infection_data)\n",
        "\n",
        "# Calculate the standard deviation of the data\n",
        "standard_deviation = statistics.stdev(infection_data)\n",
        "\n",
        "# Print the calculated statistical measures\n",
        "print(f\"Minimum: {minimum}\")\n",
        "print(f\"Maximum: {maximum}\")\n",
        "print(f\"Range: {range_value}\")\n",
        "print(f\"Mean: {mean:.2f}\")\n",
        "print(f\"Median: {median}\")\n",
        "print(f\"Variance: {variance:.2f}\")\n",
        "print(f\"Standard Deviation: {standard_deviation:.2f}\")\n"
      ],
      "metadata": {
        "colab": {
          "base_uri": "https://localhost:8080/"
        },
        "id": "A1ltYtBpZLhJ",
        "outputId": "aeb1c341-a20f-4e38-ae19-c96dc6d71235"
      },
      "execution_count": null,
      "outputs": [
        {
          "output_type": "stream",
          "name": "stdout",
          "text": [
            "Minimum: 174\n",
            "Maximum: 1704\n",
            "Range: 1530\n",
            "Mean: 845.70\n",
            "Median: 704.5\n",
            "Variance: 253620.75\n",
            "Standard Deviation: 503.61\n"
          ]
        }
      ]
    }
  ]
}